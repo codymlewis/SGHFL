{
 "cells": [
  {
   "cell_type": "code",
   "execution_count": 1,
   "metadata": {},
   "outputs": [],
   "source": [
    "from typing import Callable, Dict, Iterable, Self\n",
    "from numpy.typing import NDArray\n",
    "from itertools import product\n",
    "from functools import partial\n",
    "import datasets\n",
    "import numpy as np\n",
    "import einops\n",
    "import pandas as pd\n",
    "import pickle\n",
    "import sklearn.metrics as skm\n",
    "import sklearn.preprocessing as skp\n",
    "import matplotlib.pyplot as plt\n",
    "import json\n",
    "import jax\n",
    "import jax.numpy as jnp\n",
    "import flax.linen as nn\n",
    "import optax\n",
    "\n",
    "import flagon\n",
    "import flax_lightning"
   ]
  },
  {
   "attachments": {},
   "cell_type": "markdown",
   "metadata": {},
   "source": [
    "# Solar Home Dataset"
   ]
  },
  {
   "cell_type": "code",
   "execution_count": 2,
   "metadata": {},
   "outputs": [],
   "source": [
    "def get_data():\n",
    "    with open(\"data/solar_home_data.pkl\", 'rb') as f:\n",
    "        data = pickle.load(f)\n",
    "    X_train, Y_train = [], []\n",
    "    X_test, Y_test = [], []\n",
    "    for customer_data in data.values():\n",
    "        idx = np.arange(24, len(customer_data))\n",
    "        expanded_idx = np.array([np.arange(i - 24, i - 1) for i in idx])\n",
    "        X_train.append(customer_data[expanded_idx][:300 * 24])\n",
    "        Y_train.append(customer_data[idx, 0][:300 * 24])\n",
    "        X_test.append(customer_data[expanded_idx][300 * 24:])\n",
    "        Y_test.append(customer_data[idx, 0][300 * 24:])\n",
    "    return np.concatenate(X_train), np.concatenate(Y_train), np.concatenate(X_test), np.concatenate(Y_test)\n",
    "\n",
    "X_train, Y_train, X_test, Y_test = get_data()"
   ]
  },
  {
   "cell_type": "code",
   "execution_count": 3,
   "metadata": {},
   "outputs": [],
   "source": [
    "processor = skp.MinMaxScaler().fit(Y_train.reshape(-1, 1))\n",
    "Y_train = processor.transform(Y_train.reshape(-1, 1)).reshape(-1)\n",
    "Y_test = processor.transform(Y_test.reshape(-1, 1)).reshape(-1)\n",
    "\n",
    "# Try\n",
    "processor = skp.StandardScaler().fit(X_train.reshape(-1, 23 * 4))\n",
    "X_train = processor.transform(X_train.reshape(-1, 23 * 4)).reshape(-1, 23, 4)\n",
    "X_test = processor.transform(X_test.reshape(-1, 23 * 4)).reshape(-1, 23, 4)"
   ]
  },
  {
   "cell_type": "code",
   "execution_count": 4,
   "metadata": {},
   "outputs": [],
   "source": [
    "class Net(nn.Module):\n",
    "    @nn.compact\n",
    "    def __call__(self, x):\n",
    "        x = nn.Conv(32, (3,))(x)\n",
    "        x = nn.relu(x)\n",
    "        x = nn.Conv(32, (3,))(x)\n",
    "        x = nn.relu(x)\n",
    "        x = nn.Conv(64, (3,))(x)\n",
    "        x = nn.relu(x)\n",
    "\n",
    "        x = einops.rearrange(x, \"b t s -> b (t s)\")\n",
    "        x = nn.Dense(100)(x)\n",
    "        x = nn.relu(x)\n",
    "        x = nn.Dense(50)(x)\n",
    "        x = nn.relu(x)\n",
    "        x = nn.Dense(1)(x)\n",
    "        return nn.sigmoid(x)\n",
    "\n",
    "\n",
    "def create_model(lr=0.0005, opt=optax.adam, loss=\"log_cosh_loss\", seed=None):\n",
    "    model = Net()\n",
    "    params = model.init(jax.random.PRNGKey(seed if seed else 42), jnp.zeros((1, 23, 4)))\n",
    "    return flax_lightning.Model(\n",
    "        model,\n",
    "        params,\n",
    "        opt(lr),\n",
    "        loss,\n",
    "        metrics=[\"mean_absolute_error\", \"r2score\"],\n",
    "        seed=seed\n",
    "    )"
   ]
  },
  {
   "cell_type": "code",
   "execution_count": 5,
   "metadata": {},
   "outputs": [
    {
     "name": "stderr",
     "output_type": "stream",
     "text": [
      "No GPU/TPU found, falling back to CPU. (Set TF_CPP_MIN_LOG_LEVEL=0 and rerun for more info.)\n",
      "100%|██████████| 67500/67500 [01:37<00:00, 694.71it/s, LOSS: 0.001, epoch: 1/3]\n",
      "100%|██████████| 67500/67500 [01:36<00:00, 698.98it/s, LOSS: 0.001, epoch: 2/3]\n",
      "100%|██████████| 67500/67500 [01:36<00:00, 699.63it/s, LOSS: 0.000, epoch: 3/3]\n"
     ]
    },
    {
     "data": {
      "text/plain": [
       "{'mean_absolute_error': Array(0.02007486, dtype=float32),\n",
       " 'r2score': Array(0.3107775, dtype=float32)}"
      ]
     },
     "execution_count": 5,
     "metadata": {},
     "output_type": "execute_result"
    }
   ],
   "source": [
    "model = create_model(0.1, partial(optax.sgd, momentum=0.9), \"l2_loss\")\n",
    "model.step(X_train, Y_train, 3, verbose=1)\n",
    "model.evaluate(X_test, Y_test)"
   ]
  },
  {
   "cell_type": "code",
   "execution_count": 11,
   "metadata": {},
   "outputs": [
    {
     "name": "stdout",
     "output_type": "stream",
     "text": [
      "lr=0.1, opt_name='sgd', loss='mean_absolute_error'\n"
     ]
    },
    {
     "name": "stderr",
     "output_type": "stream",
     "text": [
      "100%|██████████| 67500/67500 [01:20<00:00, 835.00it/s, LOSS: 0.410, epoch: 1/1]\n"
     ]
    },
    {
     "name": "stdout",
     "output_type": "stream",
     "text": [
      "lr=0.1, opt_name='sgd', loss='l2_loss'\n"
     ]
    },
    {
     "name": "stderr",
     "output_type": "stream",
     "text": [
      "100%|██████████| 67500/67500 [01:19<00:00, 845.83it/s, LOSS: 0.182, epoch: 1/1]\n"
     ]
    },
    {
     "name": "stdout",
     "output_type": "stream",
     "text": [
      "lr=0.1, opt_name='sgd', loss='log_cosh_loss'\n"
     ]
    },
    {
     "name": "stderr",
     "output_type": "stream",
     "text": [
      "100%|██████████| 67500/67500 [01:21<00:00, 826.74it/s, LOSS: 0.141, epoch: 1/1]\n"
     ]
    },
    {
     "name": "stdout",
     "output_type": "stream",
     "text": [
      "lr=0.1, opt_name='momentum', loss='mean_absolute_error'\n"
     ]
    },
    {
     "name": "stderr",
     "output_type": "stream",
     "text": [
      "100%|██████████| 67500/67500 [01:23<00:00, 806.68it/s, LOSS: 0.444, epoch: 1/1]\n"
     ]
    },
    {
     "name": "stdout",
     "output_type": "stream",
     "text": [
      "lr=0.1, opt_name='momentum', loss='l2_loss'\n"
     ]
    },
    {
     "name": "stderr",
     "output_type": "stream",
     "text": [
      "100%|██████████| 67500/67500 [01:23<00:00, 810.71it/s, LOSS: 0.186, epoch: 1/1]\n"
     ]
    },
    {
     "name": "stdout",
     "output_type": "stream",
     "text": [
      "lr=0.1, opt_name='momentum', loss='log_cosh_loss'\n"
     ]
    },
    {
     "name": "stderr",
     "output_type": "stream",
     "text": [
      "100%|██████████| 67500/67500 [01:23<00:00, 812.20it/s, LOSS: 0.289, epoch: 1/1]\n"
     ]
    },
    {
     "name": "stdout",
     "output_type": "stream",
     "text": [
      "lr=0.1, opt_name='adam', loss='mean_absolute_error'\n"
     ]
    },
    {
     "name": "stderr",
     "output_type": "stream",
     "text": [
      "100%|██████████| 67500/67500 [01:27<00:00, 767.08it/s, LOSS: 0.266, epoch: 1/1]\n"
     ]
    },
    {
     "name": "stdout",
     "output_type": "stream",
     "text": [
      "lr=0.1, opt_name='adam', loss='l2_loss'\n"
     ]
    },
    {
     "name": "stderr",
     "output_type": "stream",
     "text": [
      "100%|██████████| 67500/67500 [01:27<00:00, 768.28it/s, LOSS: 0.126, epoch: 1/1]\n"
     ]
    },
    {
     "name": "stdout",
     "output_type": "stream",
     "text": [
      "lr=0.1, opt_name='adam', loss='log_cosh_loss'\n"
     ]
    },
    {
     "name": "stderr",
     "output_type": "stream",
     "text": [
      "100%|██████████| 67500/67500 [01:27<00:00, 774.84it/s, LOSS: 0.040, epoch: 1/1]\n"
     ]
    },
    {
     "name": "stdout",
     "output_type": "stream",
     "text": [
      "lr=0.05, opt_name='sgd', loss='mean_absolute_error'\n"
     ]
    },
    {
     "name": "stderr",
     "output_type": "stream",
     "text": [
      "100%|██████████| 67500/67500 [01:19<00:00, 849.53it/s, LOSS: 0.546, epoch: 1/1]\n"
     ]
    },
    {
     "name": "stdout",
     "output_type": "stream",
     "text": [
      "lr=0.05, opt_name='sgd', loss='l2_loss'\n"
     ]
    },
    {
     "name": "stderr",
     "output_type": "stream",
     "text": [
      "100%|██████████| 67500/67500 [01:19<00:00, 847.20it/s, LOSS: 0.136, epoch: 1/1]\n"
     ]
    },
    {
     "name": "stdout",
     "output_type": "stream",
     "text": [
      "lr=0.05, opt_name='sgd', loss='log_cosh_loss'\n"
     ]
    },
    {
     "name": "stderr",
     "output_type": "stream",
     "text": [
      "100%|██████████| 67500/67500 [01:19<00:00, 844.28it/s, LOSS: 0.148, epoch: 1/1]\n"
     ]
    },
    {
     "name": "stdout",
     "output_type": "stream",
     "text": [
      "lr=0.05, opt_name='momentum', loss='mean_absolute_error'\n"
     ]
    },
    {
     "name": "stderr",
     "output_type": "stream",
     "text": [
      "100%|██████████| 67500/67500 [01:23<00:00, 812.93it/s, LOSS: 0.424, epoch: 1/1]\n"
     ]
    },
    {
     "name": "stdout",
     "output_type": "stream",
     "text": [
      "lr=0.05, opt_name='momentum', loss='l2_loss'\n"
     ]
    },
    {
     "name": "stderr",
     "output_type": "stream",
     "text": [
      "100%|██████████| 67500/67500 [01:22<00:00, 822.44it/s, LOSS: 0.096, epoch: 1/1]\n"
     ]
    },
    {
     "name": "stdout",
     "output_type": "stream",
     "text": [
      "lr=0.05, opt_name='momentum', loss='log_cosh_loss'\n"
     ]
    },
    {
     "name": "stderr",
     "output_type": "stream",
     "text": [
      "100%|██████████| 67500/67500 [01:22<00:00, 820.50it/s, LOSS: 0.084, epoch: 1/1]\n"
     ]
    },
    {
     "name": "stdout",
     "output_type": "stream",
     "text": [
      "lr=0.05, opt_name='adam', loss='mean_absolute_error'\n"
     ]
    },
    {
     "name": "stderr",
     "output_type": "stream",
     "text": [
      "100%|██████████| 67500/67500 [01:27<00:00, 769.41it/s, LOSS: 0.610, epoch: 1/1]\n"
     ]
    },
    {
     "name": "stdout",
     "output_type": "stream",
     "text": [
      "lr=0.05, opt_name='adam', loss='l2_loss'\n"
     ]
    },
    {
     "name": "stderr",
     "output_type": "stream",
     "text": [
      "100%|██████████| 67500/67500 [01:26<00:00, 777.12it/s, LOSS: 0.062, epoch: 1/1]\n"
     ]
    },
    {
     "name": "stdout",
     "output_type": "stream",
     "text": [
      "lr=0.05, opt_name='adam', loss='log_cosh_loss'\n"
     ]
    },
    {
     "name": "stderr",
     "output_type": "stream",
     "text": [
      "100%|██████████| 67500/67500 [01:27<00:00, 774.83it/s, LOSS: 0.167, epoch: 1/1]\n"
     ]
    },
    {
     "name": "stdout",
     "output_type": "stream",
     "text": [
      "lr=0.01, opt_name='sgd', loss='mean_absolute_error'\n"
     ]
    },
    {
     "name": "stderr",
     "output_type": "stream",
     "text": [
      "100%|██████████| 67500/67500 [01:20<00:00, 843.55it/s, LOSS: 0.391, epoch: 1/1]\n"
     ]
    },
    {
     "name": "stdout",
     "output_type": "stream",
     "text": [
      "lr=0.01, opt_name='sgd', loss='l2_loss'\n"
     ]
    },
    {
     "name": "stderr",
     "output_type": "stream",
     "text": [
      "100%|██████████| 67500/67500 [01:19<00:00, 845.64it/s, LOSS: 0.302, epoch: 1/1]\n"
     ]
    },
    {
     "name": "stdout",
     "output_type": "stream",
     "text": [
      "lr=0.01, opt_name='sgd', loss='log_cosh_loss'\n"
     ]
    },
    {
     "name": "stderr",
     "output_type": "stream",
     "text": [
      "100%|██████████| 67500/67500 [01:20<00:00, 843.05it/s, LOSS: 0.132, epoch: 1/1]\n"
     ]
    },
    {
     "name": "stdout",
     "output_type": "stream",
     "text": [
      "lr=0.01, opt_name='momentum', loss='mean_absolute_error'\n"
     ]
    },
    {
     "name": "stderr",
     "output_type": "stream",
     "text": [
      "100%|██████████| 67500/67500 [01:22<00:00, 818.73it/s, LOSS: 0.445, epoch: 1/1]\n"
     ]
    }
   ],
   "source": [
    "optimizers = {\"sgd\": optax.sgd, \"momentum\": partial(optax.sgd, momentum=0.9), \"adam\": optax.adam}\n",
    "df = pd.DataFrame()\n",
    "\n",
    "for lr, opt_name, loss in product((0.1, 0.05, 0.01, 0.005, 0.001, 0.0005, 0.0001), optimizers.keys(), (\"mean_absolute_error\", \"l2_loss\", \"log_cosh_loss\")):\n",
    "    print(f\"{lr=}, {opt_name=}, {loss=}\")\n",
    "    opt = optimizers[opt_name]\n",
    "    model = create_model(lr=lr, opt=opt, loss=loss)\n",
    "    model.step(X_train, Y_train, 1, verbose=1)\n",
    "    results = model.evaluate(X_test, Y_test, verbose=0)\n",
    "    df = pd.concat((df, pd.DataFrame({\"lr\": [lr], \"optimizer\": [opt_name], \"loss\": [loss], \"r2 score\": [results['r2score'].item()]})))"
   ]
  },
  {
   "cell_type": "code",
   "execution_count": 9,
   "metadata": {},
   "outputs": [
    {
     "data": {
      "text/html": [
       "<div>\n",
       "<style scoped>\n",
       "    .dataframe tbody tr th:only-of-type {\n",
       "        vertical-align: middle;\n",
       "    }\n",
       "\n",
       "    .dataframe tbody tr th {\n",
       "        vertical-align: top;\n",
       "    }\n",
       "\n",
       "    .dataframe thead th {\n",
       "        text-align: right;\n",
       "    }\n",
       "</style>\n",
       "<table border=\"1\" class=\"dataframe\">\n",
       "  <thead>\n",
       "    <tr style=\"text-align: right;\">\n",
       "      <th></th>\n",
       "      <th>lr</th>\n",
       "      <th>optimizer</th>\n",
       "      <th>loss</th>\n",
       "      <th>r2 score</th>\n",
       "    </tr>\n",
       "  </thead>\n",
       "  <tbody>\n",
       "    <tr>\n",
       "      <th>0</th>\n",
       "      <td>0.1000</td>\n",
       "      <td>sgd</td>\n",
       "      <td>mean_absolute_error</td>\n",
       "      <td>-0.760915</td>\n",
       "    </tr>\n",
       "    <tr>\n",
       "      <th>0</th>\n",
       "      <td>0.1000</td>\n",
       "      <td>sgd</td>\n",
       "      <td>l2_loss</td>\n",
       "      <td>-0.760827</td>\n",
       "    </tr>\n",
       "    <tr>\n",
       "      <th>0</th>\n",
       "      <td>0.1000</td>\n",
       "      <td>sgd</td>\n",
       "      <td>log_cosh_loss</td>\n",
       "      <td>-0.760912</td>\n",
       "    </tr>\n",
       "    <tr>\n",
       "      <th>0</th>\n",
       "      <td>0.1000</td>\n",
       "      <td>momentum</td>\n",
       "      <td>mean_absolute_error</td>\n",
       "      <td>-0.760688</td>\n",
       "    </tr>\n",
       "    <tr>\n",
       "      <th>0</th>\n",
       "      <td>0.1000</td>\n",
       "      <td>momentum</td>\n",
       "      <td>l2_loss</td>\n",
       "      <td>-0.760034</td>\n",
       "    </tr>\n",
       "    <tr>\n",
       "      <th>...</th>\n",
       "      <td>...</td>\n",
       "      <td>...</td>\n",
       "      <td>...</td>\n",
       "      <td>...</td>\n",
       "    </tr>\n",
       "    <tr>\n",
       "      <th>0</th>\n",
       "      <td>0.0001</td>\n",
       "      <td>momentum</td>\n",
       "      <td>l2_loss</td>\n",
       "      <td>-0.760098</td>\n",
       "    </tr>\n",
       "    <tr>\n",
       "      <th>0</th>\n",
       "      <td>0.0001</td>\n",
       "      <td>momentum</td>\n",
       "      <td>log_cosh_loss</td>\n",
       "      <td>-0.760676</td>\n",
       "    </tr>\n",
       "    <tr>\n",
       "      <th>0</th>\n",
       "      <td>0.0001</td>\n",
       "      <td>adam</td>\n",
       "      <td>mean_absolute_error</td>\n",
       "      <td>-0.666119</td>\n",
       "    </tr>\n",
       "    <tr>\n",
       "      <th>0</th>\n",
       "      <td>0.0001</td>\n",
       "      <td>adam</td>\n",
       "      <td>l2_loss</td>\n",
       "      <td>-0.608143</td>\n",
       "    </tr>\n",
       "    <tr>\n",
       "      <th>0</th>\n",
       "      <td>0.0001</td>\n",
       "      <td>adam</td>\n",
       "      <td>log_cosh_loss</td>\n",
       "      <td>-0.631266</td>\n",
       "    </tr>\n",
       "  </tbody>\n",
       "</table>\n",
       "<p>63 rows × 4 columns</p>\n",
       "</div>"
      ],
      "text/plain": [
       "        lr optimizer                 loss  r2 score\n",
       "0   0.1000       sgd  mean_absolute_error -0.760915\n",
       "0   0.1000       sgd              l2_loss -0.760827\n",
       "0   0.1000       sgd        log_cosh_loss -0.760912\n",
       "0   0.1000  momentum  mean_absolute_error -0.760688\n",
       "0   0.1000  momentum              l2_loss -0.760034\n",
       "..     ...       ...                  ...       ...\n",
       "0   0.0001  momentum              l2_loss -0.760098\n",
       "0   0.0001  momentum        log_cosh_loss -0.760676\n",
       "0   0.0001      adam  mean_absolute_error -0.666119\n",
       "0   0.0001      adam              l2_loss -0.608143\n",
       "0   0.0001      adam        log_cosh_loss -0.631266\n",
       "\n",
       "[63 rows x 4 columns]"
      ]
     },
     "execution_count": 9,
     "metadata": {},
     "output_type": "execute_result"
    }
   ],
   "source": [
    "df"
   ]
  },
  {
   "attachments": {},
   "cell_type": "markdown",
   "metadata": {},
   "source": [
    "# Electricity Consumption Dataset"
   ]
  },
  {
   "cell_type": "code",
   "execution_count": 50,
   "metadata": {},
   "outputs": [],
   "source": [
    "with open(\"data/electricity_consumption_2020-2021.pkl\", 'rb') as f:\n",
    "    electricity_con_data = pickle.load(f)\n",
    "\n",
    "with open(\"data/central_coast_hunter_weather.pkl\", 'rb') as f:\n",
    "    weather_data = pickle.load(f)"
   ]
  },
  {
   "cell_type": "code",
   "execution_count": 51,
   "metadata": {},
   "outputs": [],
   "source": [
    "def get_customer_data(lga=0, customer=0):\n",
    "    idx = np.arange(30, len(electricity_con_data[lga][customer]))\n",
    "    expanded_idx = np.array([np.arange(i - 30, i - 1) for i in idx])\n",
    "    return np.concatenate((electricity_con_data[lga][customer, expanded_idx].reshape(-1, 29, 1), weather_data[str(lga)][expanded_idx]), axis=-1), electricity_con_data[lga][customer, idx]"
   ]
  },
  {
   "cell_type": "code",
   "execution_count": 52,
   "metadata": {},
   "outputs": [],
   "source": [
    "def create_model() -> tf.keras.Model:\n",
    "    inputs = tf.keras.Input((29, 8))\n",
    "    # x = tf.keras.layers.Flatten()(inputs)\n",
    "    x = tf.keras.layers.Conv1D(64, 5, activation=\"relu\")(inputs)\n",
    "    x = tf.keras.layers.Conv1D(64, 3, activation=\"relu\")(x)\n",
    "    x = tf.keras.layers.Conv1D(32, 2, activation=\"relu\")(x)\n",
    "    x = tf.keras.layers.Flatten()(x)\n",
    "    x = tf.keras.layers.Dense(100, activation=\"relu\")(x)\n",
    "    x = tf.keras.layers.Dense(50, activation=\"relu\")(x)\n",
    "    x = tf.keras.layers.Dense(1, activation=\"linear\")(x)\n",
    "    model = tf.keras.Model(inputs=inputs, outputs=x)\n",
    "    model.compile(\n",
    "        optimizer=tf.keras.optimizers.Adam(learning_rate=0.01),\n",
    "        loss=\"mean_squared_error\",\n",
    "        metrics=[\"mean_absolute_error\", tf.keras.metrics.RootMeanSquaredError()]\n",
    "    )\n",
    "    return model"
   ]
  },
  {
   "cell_type": "code",
   "execution_count": 60,
   "metadata": {},
   "outputs": [],
   "source": [
    "def create_clients(create_model_fn, nclients, seed=None):\n",
    "    def create_client(client_id: str):\n",
    "        lga = int(client_id[:client_id.find('-')])\n",
    "        customer = int(client_id[client_id.find('-') + 1:])\n",
    "        client_X, client_Y = get_customer_data(lga, customer)\n",
    "        client_data = {\"train\": {\"X\": client_X[:300], \"Y\": client_Y[:300]}, \"test\": {\"X\": client_X[300:], \"Y\": client_Y[300:]}}\n",
    "        return Client(client_data, create_model_fn)\n",
    "    return create_client"
   ]
  },
  {
   "cell_type": "code",
   "execution_count": 55,
   "metadata": {},
   "outputs": [],
   "source": [
    "class Client(flagon.Client):\n",
    "    def __init__(self, data, create_model_fn):\n",
    "        self.data = data\n",
    "        self.model = create_model_fn()\n",
    "\n",
    "    def fit(self, parameters, config):\n",
    "        self.model.set_weights(parameters)\n",
    "        history = self.model.fit(self.data['train']['X'], self.data['train']['Y'], epochs=config['num_epochs'])\n",
    "        return self.model.get_weights(), len(self.data['train']), {k: v[-1] for k, v in history.history.items()}\n",
    "\n",
    "    def evaluate(self, parameters, config):\n",
    "        self.model.set_weights(parameters)\n",
    "        loss, mae, rmse = self.model.evaluate(self.data['test']['X'], self.data['test']['Y'])\n",
    "        return len(self.data['test']), {'loss': loss, 'mean absolute error': mae, 'root mean squared error': rmse}"
   ]
  },
  {
   "cell_type": "code",
   "execution_count": 67,
   "metadata": {},
   "outputs": [
    {
     "ename": "KeyError",
     "evalue": "96",
     "output_type": "error",
     "traceback": [
      "\u001b[0;31m---------------------------------------------------------------------------\u001b[0m",
      "\u001b[0;31mKeyError\u001b[0m                                  Traceback (most recent call last)",
      "Cell \u001b[0;32mIn[67], line 5\u001b[0m\n\u001b[1;32m      1\u001b[0m server \u001b[39m=\u001b[39m flagon\u001b[39m.\u001b[39mServer(create_model()\u001b[39m.\u001b[39mget_weights(), {\u001b[39m\"\u001b[39m\u001b[39mnum_rounds\u001b[39m\u001b[39m\"\u001b[39m: \u001b[39m1\u001b[39m, \u001b[39m\"\u001b[39m\u001b[39mnum_episodes\u001b[39m\u001b[39m\"\u001b[39m: \u001b[39m1\u001b[39m, \u001b[39m\"\u001b[39m\u001b[39mnum_epochs\u001b[39m\u001b[39m\"\u001b[39m: \u001b[39m1\u001b[39m})\n\u001b[1;32m      2\u001b[0m network_arch \u001b[39m=\u001b[39m {\n\u001b[1;32m      3\u001b[0m     \u001b[39m\"\u001b[39m\u001b[39mclients\u001b[39m\u001b[39m\"\u001b[39m: [{\u001b[39m\"\u001b[39m\u001b[39mclients\u001b[39m\u001b[39m\"\u001b[39m: lga_data\u001b[39m.\u001b[39mshape[\u001b[39m0\u001b[39m] \u001b[39m/\u001b[39m\u001b[39m/\u001b[39m \u001b[39m1000\u001b[39m} \u001b[39mfor\u001b[39;00m lga_data \u001b[39min\u001b[39;00m electricity_con_data\u001b[39m.\u001b[39mvalues()],\n\u001b[1;32m      4\u001b[0m }\n\u001b[0;32m----> 5\u001b[0m flagon\u001b[39m.\u001b[39;49mstart_simulation(\n\u001b[1;32m      6\u001b[0m     server,\n\u001b[1;32m      7\u001b[0m     create_clients(create_model, flagon\u001b[39m.\u001b[39;49mcommon\u001b[39m.\u001b[39;49mcount_clients(network_arch)),\n\u001b[1;32m      8\u001b[0m     network_arch\n\u001b[1;32m      9\u001b[0m )\n",
      "File \u001b[0;32m~/Desktop/dylon/.venv/lib/python3.11/site-packages/flagon/simulation.py:26\u001b[0m, in \u001b[0;36mstart_simulation\u001b[0;34m(server, client_fn, network_arch)\u001b[0m\n\u001b[1;32m     13\u001b[0m \u001b[39mdef\u001b[39;00m \u001b[39mstart_simulation\u001b[39m(\n\u001b[1;32m     14\u001b[0m     server: Server,\n\u001b[1;32m     15\u001b[0m     client_fn: Callable[[\u001b[39mint\u001b[39m], Client],\n\u001b[1;32m     16\u001b[0m     network_arch: Dict[\u001b[39mstr\u001b[39m, \u001b[39mint\u001b[39m \u001b[39m|\u001b[39m Dict \u001b[39m|\u001b[39m List[Dict]],\n\u001b[1;32m     17\u001b[0m ) \u001b[39m-\u001b[39m\u001b[39m>\u001b[39m History:\n\u001b[1;32m     18\u001b[0m \u001b[39m    \u001b[39m\u001b[39m\"\"\"\u001b[39;00m\n\u001b[1;32m     19\u001b[0m \u001b[39m    Construct and run a federated learning simulation.\u001b[39;00m\n\u001b[1;32m     20\u001b[0m \n\u001b[0;32m   (...)\u001b[0m\n\u001b[1;32m     24\u001b[0m \u001b[39m    - network_arch: The architecture for the system, specified as a dictionary\u001b[39;00m\n\u001b[1;32m     25\u001b[0m \u001b[39m    \"\"\"\u001b[39;00m\n\u001b[0;32m---> 26\u001b[0m     clients \u001b[39m=\u001b[39m construct_network(client_fn, network_arch)\n\u001b[1;32m     27\u001b[0m     server\u001b[39m.\u001b[39mregister_clients(clients)\n\u001b[1;32m     28\u001b[0m     history \u001b[39m=\u001b[39m server\u001b[39m.\u001b[39mfit()\n",
      "File \u001b[0;32m~/Desktop/dylon/.venv/lib/python3.11/site-packages/flagon/simulation.py:65\u001b[0m, in \u001b[0;36mconstruct_network\u001b[0;34m(client_fn, network_arch, level_id)\u001b[0m\n\u001b[1;32m     60\u001b[0m         middle_server_class \u001b[39m=\u001b[39m MiddleServer\n\u001b[1;32m     61\u001b[0m     middle_server \u001b[39m=\u001b[39m middle_server_class(\n\u001b[1;32m     62\u001b[0m         strategy\u001b[39m=\u001b[39msubnet\u001b[39m.\u001b[39mget(\u001b[39m\"\u001b[39m\u001b[39mstrategy\u001b[39m\u001b[39m\"\u001b[39m),\n\u001b[1;32m     63\u001b[0m         client_manager\u001b[39m=\u001b[39msubnet\u001b[39m.\u001b[39mget(\u001b[39m\"\u001b[39m\u001b[39mclient_manager\u001b[39m\u001b[39m\"\u001b[39m)\n\u001b[1;32m     64\u001b[0m     )\n\u001b[0;32m---> 65\u001b[0m     middle_server\u001b[39m.\u001b[39mregister_clients(construct_network(client_fn, subnet, level_id\u001b[39m=\u001b[39;49m\u001b[39mf\u001b[39;49m\u001b[39m\"\u001b[39;49m\u001b[39m{\u001b[39;49;00mlevel_id\u001b[39m}\u001b[39;49;00m\u001b[39m{\u001b[39;49;00mi\u001b[39m}\u001b[39;49;00m\u001b[39m-\u001b[39;49m\u001b[39m\"\u001b[39;49m))\n\u001b[1;32m     66\u001b[0m     clients\u001b[39m.\u001b[39mappend(middle_server)\n\u001b[1;32m     67\u001b[0m \u001b[39mreturn\u001b[39;00m clients\n",
      "File \u001b[0;32m~/Desktop/dylon/.venv/lib/python3.11/site-packages/flagon/simulation.py:39\u001b[0m, in \u001b[0;36mconstruct_network\u001b[0;34m(client_fn, network_arch, level_id)\u001b[0m\n\u001b[1;32m     37\u001b[0m \u001b[39m\"\u001b[39m\u001b[39mConstruct the network as specified in the network_arch variable\u001b[39m\u001b[39m\"\u001b[39m\n\u001b[1;32m     38\u001b[0m \u001b[39mif\u001b[39;00m \u001b[39misinstance\u001b[39m(network_arch[\u001b[39m'\u001b[39m\u001b[39mclients\u001b[39m\u001b[39m'\u001b[39m], \u001b[39mint\u001b[39m):\n\u001b[0;32m---> 39\u001b[0m     \u001b[39mreturn\u001b[39;00m [client_fn(\u001b[39mf\u001b[39;49m\u001b[39m\"\u001b[39;49m\u001b[39m{\u001b[39;49;00mlevel_id\u001b[39m}\u001b[39;49;00m\u001b[39m{\u001b[39;49;00mi\u001b[39m}\u001b[39;49;00m\u001b[39m\"\u001b[39;49m) \u001b[39mfor\u001b[39;49;00m i \u001b[39min\u001b[39;49;00m \u001b[39mrange\u001b[39;49m(network_arch[\u001b[39m'\u001b[39;49m\u001b[39mclients\u001b[39;49m\u001b[39m'\u001b[39;49m])]\n\u001b[1;32m     40\u001b[0m \u001b[39melif\u001b[39;00m \u001b[39misinstance\u001b[39m(network_arch[\u001b[39m'\u001b[39m\u001b[39mclients\u001b[39m\u001b[39m'\u001b[39m], \u001b[39mdict\u001b[39m):\n\u001b[1;32m     41\u001b[0m     subnet \u001b[39m=\u001b[39m network_arch[\u001b[39m'\u001b[39m\u001b[39mclients\u001b[39m\u001b[39m'\u001b[39m]\n",
      "File \u001b[0;32m~/Desktop/dylon/.venv/lib/python3.11/site-packages/flagon/simulation.py:39\u001b[0m, in \u001b[0;36m<listcomp>\u001b[0;34m(.0)\u001b[0m\n\u001b[1;32m     37\u001b[0m \u001b[39m\"\u001b[39m\u001b[39mConstruct the network as specified in the network_arch variable\u001b[39m\u001b[39m\"\u001b[39m\n\u001b[1;32m     38\u001b[0m \u001b[39mif\u001b[39;00m \u001b[39misinstance\u001b[39m(network_arch[\u001b[39m'\u001b[39m\u001b[39mclients\u001b[39m\u001b[39m'\u001b[39m], \u001b[39mint\u001b[39m):\n\u001b[0;32m---> 39\u001b[0m     \u001b[39mreturn\u001b[39;00m [client_fn(\u001b[39mf\u001b[39;49m\u001b[39m\"\u001b[39;49m\u001b[39m{\u001b[39;49;00mlevel_id\u001b[39m}\u001b[39;49;00m\u001b[39m{\u001b[39;49;00mi\u001b[39m}\u001b[39;49;00m\u001b[39m\"\u001b[39;49m) \u001b[39mfor\u001b[39;00m i \u001b[39min\u001b[39;00m \u001b[39mrange\u001b[39m(network_arch[\u001b[39m'\u001b[39m\u001b[39mclients\u001b[39m\u001b[39m'\u001b[39m])]\n\u001b[1;32m     40\u001b[0m \u001b[39melif\u001b[39;00m \u001b[39misinstance\u001b[39m(network_arch[\u001b[39m'\u001b[39m\u001b[39mclients\u001b[39m\u001b[39m'\u001b[39m], \u001b[39mdict\u001b[39m):\n\u001b[1;32m     41\u001b[0m     subnet \u001b[39m=\u001b[39m network_arch[\u001b[39m'\u001b[39m\u001b[39mclients\u001b[39m\u001b[39m'\u001b[39m]\n",
      "Cell \u001b[0;32mIn[65], line 3\u001b[0m, in \u001b[0;36mcreate_clients.<locals>.create_client\u001b[0;34m(client_id)\u001b[0m\n\u001b[1;32m      2\u001b[0m \u001b[39mdef\u001b[39;00m \u001b[39mcreate_client\u001b[39m(client_id: \u001b[39mstr\u001b[39m):\n\u001b[0;32m----> 3\u001b[0m     client_X, client_Y \u001b[39m=\u001b[39m get_customer_data(client_ids[client_id])\n\u001b[1;32m      4\u001b[0m     \u001b[39mprint\u001b[39m(\u001b[39mf\u001b[39m\u001b[39m\"\u001b[39m\u001b[39m{\u001b[39;00mclient_Y\u001b[39m.\u001b[39mshape\u001b[39m=}\u001b[39;00m\u001b[39m\"\u001b[39m)\n\u001b[1;32m      5\u001b[0m     client_data \u001b[39m=\u001b[39m {\u001b[39m\"\u001b[39m\u001b[39mtrain\u001b[39m\u001b[39m\"\u001b[39m: {\u001b[39m\"\u001b[39m\u001b[39mX\u001b[39m\u001b[39m\"\u001b[39m: client_X[:\u001b[39m300\u001b[39m], \u001b[39m\"\u001b[39m\u001b[39mY\u001b[39m\u001b[39m\"\u001b[39m: client_Y[:\u001b[39m300\u001b[39m]}, \u001b[39m\"\u001b[39m\u001b[39mtest\u001b[39m\u001b[39m\"\u001b[39m: {\u001b[39m\"\u001b[39m\u001b[39mX\u001b[39m\u001b[39m\"\u001b[39m: client_X[\u001b[39m300\u001b[39m:], \u001b[39m\"\u001b[39m\u001b[39mY\u001b[39m\u001b[39m\"\u001b[39m: client_Y[\u001b[39m300\u001b[39m:]}}\n",
      "Cell \u001b[0;32mIn[51], line 2\u001b[0m, in \u001b[0;36mget_customer_data\u001b[0;34m(lga, customer)\u001b[0m\n\u001b[1;32m      1\u001b[0m \u001b[39mdef\u001b[39;00m \u001b[39mget_customer_data\u001b[39m(lga\u001b[39m=\u001b[39m\u001b[39m0\u001b[39m, customer\u001b[39m=\u001b[39m\u001b[39m0\u001b[39m):\n\u001b[0;32m----> 2\u001b[0m     idx \u001b[39m=\u001b[39m np\u001b[39m.\u001b[39marange(\u001b[39m30\u001b[39m, \u001b[39mlen\u001b[39m(electricity_con_data[lga][customer]))\n\u001b[1;32m      3\u001b[0m     expanded_idx \u001b[39m=\u001b[39m np\u001b[39m.\u001b[39marray([np\u001b[39m.\u001b[39marange(i \u001b[39m-\u001b[39m \u001b[39m30\u001b[39m, i \u001b[39m-\u001b[39m \u001b[39m1\u001b[39m) \u001b[39mfor\u001b[39;00m i \u001b[39min\u001b[39;00m idx])\n\u001b[1;32m      4\u001b[0m     \u001b[39mreturn\u001b[39;00m np\u001b[39m.\u001b[39mconcatenate((electricity_con_data[lga][customer, expanded_idx]\u001b[39m.\u001b[39mreshape(\u001b[39m-\u001b[39m\u001b[39m1\u001b[39m, \u001b[39m29\u001b[39m, \u001b[39m1\u001b[39m), weather_data[\u001b[39mstr\u001b[39m(lga)][expanded_idx]), axis\u001b[39m=\u001b[39m\u001b[39m-\u001b[39m\u001b[39m1\u001b[39m), electricity_con_data[lga][customer, idx]\n",
      "\u001b[0;31mKeyError\u001b[0m: 96"
     ]
    }
   ],
   "source": [
    "server = flagon.Server(create_model().get_weights(), {\"num_rounds\": 1, \"num_episodes\": 1, \"num_epochs\": 1})\n",
    "network_arch = {\n",
    "    \"clients\": [{\"clients\": lga_data.shape[0] // 1000} for lga_data in electricity_con_data.values()],\n",
    "}\n",
    "flagon.start_simulation(\n",
    "    server,\n",
    "    create_clients(create_model, flagon.common.count_clients(network_arch)),\n",
    "    network_arch\n",
    ")"
   ]
  },
  {
   "cell_type": "code",
   "execution_count": 62,
   "metadata": {},
   "outputs": [
    {
     "name": "stdout",
     "output_type": "stream",
     "text": [
      "WARNING:tensorflow:5 out of the last 20 calls to <function Model.make_predict_function.<locals>.predict_function at 0x7fb3a43267a0> triggered tf.function retracing. Tracing is expensive and the excessive number of tracings could be due to (1) creating @tf.function repeatedly in a loop, (2) passing tensors with different shapes, (3) passing Python objects instead of tensors. For (1), please define your @tf.function outside of the loop. For (2), @tf.function has reduce_retracing=True option that can avoid unnecessary retracing. For (3), please refer to https://www.tensorflow.org/guide/function#controlling_retracing and https://www.tensorflow.org/api_docs/python/tf/function for  more details.\n",
      "11/11 [==============================] - 0s 672us/step\n"
     ]
    },
    {
     "data": {
      "image/png": "[encoded data removed]",
      "text/plain": [
       "<Figure size 640x480 with 1 Axes>"
      ]
     },
     "metadata": {},
     "output_type": "display_data"
    }
   ],
   "source": [
    "plt.plot(np.arange(len(Y)), Y, '-', label=\"Ground truth\")\n",
    "\n",
    "preds = model.predict(X)\n",
    "plt.plot(np.arange(len(preds)), preds, '-', label=\"Model prediction\")\n",
    "plt.xlabel(\"Day\")\n",
    "plt.ylabel(\"Net Energy (kWh)\")\n",
    "plt.legend()\n",
    "plt.show()"
   ]
  }
 ],
 "metadata": {
  "kernelspec": {
   "display_name": ".venv",
   "language": "python",
   "name": "python3"
  },
  "language_info": {
   "codemirror_mode": {
    "name": "ipython",
    "version": 3
   },
   "file_extension": ".py",
   "mimetype": "text/x-python",
   "name": "python",
   "nbconvert_exporter": "python",
   "pygments_lexer": "ipython3",
   "version": "3.11.3"
  },
  "orig_nbformat": 4
 },
 "nbformat": 4,
 "nbformat_minor": 2
}
