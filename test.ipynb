{
 "cells": [
  {
   "cell_type": "code",
   "execution_count": 2,
   "metadata": {},
   "outputs": [],
   "source": [
    "from typing import Callable, Dict, Iterable, Self\n",
    "from numpy.typing import NDArray\n",
    "import datasets\n",
    "import tensorflow as tf\n",
    "import numpy as np\n",
    "import einops\n",
    "import pandas as pd\n",
    "import pickle\n",
    "\n",
    "# import flagon"
   ]
  },
  {
   "cell_type": "code",
   "execution_count": 7,
   "metadata": {},
   "outputs": [],
   "source": [
    "with open(\"data/solar_home_data.pkl\", 'rb') as f:\n",
    "    data = pickle.load(f)\n",
    "\n",
    "def get_customer_data(customer=1):\n",
    "    idx = np.arange(24, len(data[customer]))\n",
    "    expanded_idx = np.array([np.arange(i - 24, i - 1) for i in idx])\n",
    "    return data[customer][expanded_idx].reshape(len(data[customer]) - 24, -1), data[customer][idx, 0]"
   ]
  },
  {
   "cell_type": "code",
   "execution_count": 10,
   "metadata": {},
   "outputs": [
    {
     "data": {
      "text/plain": [
       "(8736, 92)"
      ]
     },
     "execution_count": 10,
     "metadata": {},
     "output_type": "execute_result"
    }
   ],
   "source": [
    "get_customer_data(1)[0].shape"
   ]
  },
  {
   "cell_type": "code",
   "execution_count": 91,
   "metadata": {},
   "outputs": [],
   "source": [
    "def create_model() -> tf.keras.Model:\n",
    "    inputs = tf.keras.Input((92))\n",
    "    # x = tf.keras.layers.Flatten()(inputs)\n",
    "    x = tf.keras.layers.Reshape((23, 4))(inputs)\n",
    "    # x = tf.keras.layers.Conv1D(32, 5, activation=\"relu\")(x)\n",
    "    # x = tf.keras.layers.Conv1D(32, 3, activation=\"relu\")(x)\n",
    "    # x = tf.keras.layers.Conv1D(32, 2, activation=\"relu\")(x)\n",
    "    x = tf.keras.layers.LSTM(3)(x)\n",
    "    x = tf.keras.layers.Flatten()(x)\n",
    "    x = tf.keras.layers.Dense(50, activation=\"relu\")(x)\n",
    "    x = tf.keras.layers.Dense(1, activation=\"linear\")(x)\n",
    "    model = tf.keras.Model(inputs=inputs, outputs=x)\n",
    "    model.compile(\n",
    "        optimizer=tf.keras.optimizers.Adam(learning_rate=0.01),\n",
    "        loss=\"mean_squared_error\",\n",
    "        metrics=[\"mean_absolute_error\"]\n",
    "    )\n",
    "    return model"
   ]
  },
  {
   "cell_type": "code",
   "execution_count": 13,
   "metadata": {},
   "outputs": [],
   "source": [
    "X, Y = get_customer_data(1)"
   ]
  },
  {
   "cell_type": "code",
   "execution_count": 92,
   "metadata": {},
   "outputs": [
    {
     "name": "stdout",
     "output_type": "stream",
     "text": [
      "Epoch 1/10\n",
      "273/273 [==============================] - 2s 2ms/step - loss: 1.2970 - mean_absolute_error: 0.8739\n",
      "Epoch 2/10\n",
      "273/273 [==============================] - 1s 2ms/step - loss: 1.0270 - mean_absolute_error: 0.7899\n",
      "Epoch 3/10\n",
      "273/273 [==============================] - 1s 2ms/step - loss: 1.0146 - mean_absolute_error: 0.7844\n",
      "Epoch 4/10\n",
      "273/273 [==============================] - 1s 2ms/step - loss: 0.9957 - mean_absolute_error: 0.7750\n",
      "Epoch 5/10\n",
      "273/273 [==============================] - 1s 2ms/step - loss: 0.9817 - mean_absolute_error: 0.7654\n",
      "Epoch 6/10\n",
      "273/273 [==============================] - 1s 2ms/step - loss: 0.9599 - mean_absolute_error: 0.7559\n",
      "Epoch 7/10\n",
      "273/273 [==============================] - 1s 2ms/step - loss: 0.9560 - mean_absolute_error: 0.7541\n",
      "Epoch 8/10\n",
      "273/273 [==============================] - 1s 2ms/step - loss: 0.9553 - mean_absolute_error: 0.7512\n",
      "Epoch 9/10\n",
      "273/273 [==============================] - 1s 2ms/step - loss: 0.9416 - mean_absolute_error: 0.7476\n",
      "Epoch 10/10\n",
      "273/273 [==============================] - 1s 2ms/step - loss: 0.9442 - mean_absolute_error: 0.7471\n"
     ]
    },
    {
     "data": {
      "text/plain": [
       "<keras.src.callbacks.History at 0x7fdd33c1c690>"
      ]
     },
     "execution_count": 92,
     "metadata": {},
     "output_type": "execute_result"
    }
   ],
   "source": [
    "model = create_model()\n",
    "model.fit(X, Y, epochs=10)"
   ]
  },
  {
   "cell_type": "code",
   "execution_count": 93,
   "metadata": {},
   "outputs": [
    {
     "name": "stdout",
     "output_type": "stream",
     "text": [
      "86/86 [==============================] - 0s 1ms/step\n"
     ]
    },
    {
     "data": {
      "text/plain": [
       "array([[ 1.4047612 ],\n",
       "       [ 0.8758196 ],\n",
       "       [-0.9858786 ],\n",
       "       ...,\n",
       "       [ 0.24838148],\n",
       "       [ 0.38292974],\n",
       "       [ 1.2833661 ]], dtype=float32)"
      ]
     },
     "execution_count": 93,
     "metadata": {},
     "output_type": "execute_result"
    }
   ],
   "source": [
    "model.predict(X[Y < 0])"
   ]
  },
  {
   "cell_type": "code",
   "execution_count": 94,
   "metadata": {},
   "outputs": [
    {
     "data": {
      "text/plain": [
       "array([-0.594, -0.862, -1.591, ..., -0.444, -0.283, -0.364])"
      ]
     },
     "execution_count": 94,
     "metadata": {},
     "output_type": "execute_result"
    }
   ],
   "source": [
    "Y[Y < 0]"
   ]
  }
 ],
 "metadata": {
  "kernelspec": {
   "display_name": ".venv",
   "language": "python",
   "name": "python3"
  },
  "language_info": {
   "codemirror_mode": {
    "name": "ipython",
    "version": 3
   },
   "file_extension": ".py",
   "mimetype": "text/x-python",
   "name": "python",
   "nbconvert_exporter": "python",
   "pygments_lexer": "ipython3",
   "version": "3.11.3"
  },
  "orig_nbformat": 4
 },
 "nbformat": 4,
 "nbformat_minor": 2
}
