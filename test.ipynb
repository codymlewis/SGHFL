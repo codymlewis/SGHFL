{
 "cells": [
  {
   "cell_type": "code",
   "execution_count": 20,
   "metadata": {},
   "outputs": [],
   "source": [
    "from typing import Callable, Dict, Iterable, Self\n",
    "from numpy.typing import NDArray\n",
    "import datasets\n",
    "import tensorflow as tf\n",
    "import numpy as np\n",
    "import einops\n",
    "import pandas as pd\n",
    "import pickle\n",
    "import sklearn.metrics as skm\n",
    "\n",
    "# import flagon"
   ]
  },
  {
   "cell_type": "code",
   "execution_count": 2,
   "metadata": {},
   "outputs": [],
   "source": [
    "with open(\"data/solar_home_data.pkl\", 'rb') as f:\n",
    "    data = pickle.load(f)\n",
    "\n",
    "def get_customer_data(customer=1):\n",
    "    idx = np.arange(24, len(data[customer]))\n",
    "    expanded_idx = np.array([np.arange(i - 24, i - 1) for i in idx])\n",
    "    return data[customer][expanded_idx].reshape(len(data[customer]) - 24, -1), data[customer][idx, 0]"
   ]
  },
  {
   "cell_type": "code",
   "execution_count": 3,
   "metadata": {},
   "outputs": [
    {
     "data": {
      "text/plain": [
       "(8736, 92)"
      ]
     },
     "execution_count": 3,
     "metadata": {},
     "output_type": "execute_result"
    }
   ],
   "source": [
    "get_customer_data(1)[0].shape"
   ]
  },
  {
   "cell_type": "code",
   "execution_count": 31,
   "metadata": {},
   "outputs": [],
   "source": [
    "def create_model() -> tf.keras.Model:\n",
    "    inputs = tf.keras.Input((92))\n",
    "    # x = tf.keras.layers.Flatten()(inputs)\n",
    "    x = tf.keras.layers.Reshape((23, 4))(inputs)\n",
    "    x = tf.keras.layers.Conv1D(32, 5, activation=\"relu\")(x)\n",
    "    x = tf.keras.layers.Conv1D(64, 3, activation=\"relu\")(x)\n",
    "    x = tf.keras.layers.Conv1D(64, 2, activation=\"relu\")(x)\n",
    "    x = tf.keras.layers.Flatten()(x)\n",
    "    x = tf.keras.layers.Dense(50, activation=\"relu\")(x)\n",
    "    x = tf.keras.layers.Dense(1, activation=\"linear\")(x)\n",
    "    model = tf.keras.Model(inputs=inputs, outputs=x)\n",
    "    model.compile(\n",
    "        optimizer=tf.keras.optimizers.Adam(learning_rate=0.01),\n",
    "        loss=\"mean_squared_error\",\n",
    "        metrics=[\"mean_absolute_error\", tf.keras.metrics.RootMeanSquaredError()]\n",
    "    )\n",
    "    return model"
   ]
  },
  {
   "cell_type": "code",
   "execution_count": 5,
   "metadata": {},
   "outputs": [],
   "source": [
    "X, Y = get_customer_data(1)"
   ]
  },
  {
   "cell_type": "code",
   "execution_count": 32,
   "metadata": {},
   "outputs": [
    {
     "name": "stdout",
     "output_type": "stream",
     "text": [
      "Epoch 1/5\n",
      "273/273 [==============================] - 1s 1ms/step - loss: 73.3537 - mean_absolute_error: 1.6102 - root_mean_squared_error: 8.5647\n",
      "Epoch 2/5\n",
      "273/273 [==============================] - 0s 1ms/step - loss: 1.2202 - mean_absolute_error: 0.8361 - root_mean_squared_error: 1.1046\n",
      "Epoch 3/5\n",
      "273/273 [==============================] - 0s 1ms/step - loss: 1.1158 - mean_absolute_error: 0.8018 - root_mean_squared_error: 1.0563\n",
      "Epoch 4/5\n",
      "273/273 [==============================] - 0s 1ms/step - loss: 1.0184 - mean_absolute_error: 0.7628 - root_mean_squared_error: 1.0092\n",
      "Epoch 5/5\n",
      "273/273 [==============================] - 0s 1ms/step - loss: 1.8265 - mean_absolute_error: 1.0221 - root_mean_squared_error: 1.3515\n"
     ]
    },
    {
     "data": {
      "text/plain": [
       "<keras.callbacks.History at 0x7f0784a37cd0>"
      ]
     },
     "execution_count": 32,
     "metadata": {},
     "output_type": "execute_result"
    }
   ],
   "source": [
    "model = create_model()\n",
    "model.fit(X, Y, epochs=5)"
   ]
  },
  {
   "cell_type": "code",
   "execution_count": 94,
   "metadata": {},
   "outputs": [
    {
     "data": {
      "text/plain": [
       "array([-0.594, -0.862, -1.591, ..., -0.444, -0.283, -0.364])"
      ]
     },
     "execution_count": 94,
     "metadata": {},
     "output_type": "execute_result"
    }
   ],
   "source": [
    "Y[Y < 0]"
   ]
  }
 ],
 "metadata": {
  "kernelspec": {
   "display_name": ".venv",
   "language": "python",
   "name": "python3"
  },
  "language_info": {
   "codemirror_mode": {
    "name": "ipython",
    "version": 3
   },
   "file_extension": ".py",
   "mimetype": "text/x-python",
   "name": "python",
   "nbconvert_exporter": "python",
   "pygments_lexer": "ipython3",
   "version": "3.11.3"
  },
  "orig_nbformat": 4
 },
 "nbformat": 4,
 "nbformat_minor": 2
}
