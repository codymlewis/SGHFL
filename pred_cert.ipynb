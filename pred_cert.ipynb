{
 "cells": [
  {
   "cell_type": "code",
   "execution_count": 36,
   "metadata": {},
   "outputs": [],
   "source": [
    "import numpy as np\n",
    "import tensorflow as tf\n",
    "import matplotlib.pyplot as plt\n",
    "%matplotlib inline"
   ]
  },
  {
   "cell_type": "code",
   "execution_count": 218,
   "metadata": {},
   "outputs": [],
   "source": [
    "rng = np.random.default_rng()\n",
    "X = rng.normal(size=(100_000, 256))\n",
    "Y = X.sum(axis=1)\n",
    "Y = (Y - Y.min()) / (Y.max() - Y.min())"
   ]
  },
  {
   "cell_type": "code",
   "execution_count": 219,
   "metadata": {},
   "outputs": [],
   "source": [
    "def create_model() -> tf.keras.Model:\n",
    "    inputs = tf.keras.Input((256,))\n",
    "    x = tf.keras.layers.Dense(100, activation=\"relu\")(inputs)\n",
    "    x = tf.keras.layers.Dense(50, activation=\"relu\")(x)\n",
    "    x = tf.keras.layers.Dense(1)(x)\n",
    "    model = tf.keras.Model(inputs=inputs, outputs=x)\n",
    "    model.compile(\n",
    "        optimizer=tf.keras.optimizers.Adam(learning_rate=0.01),\n",
    "        loss=\"mean_squared_error\",\n",
    "        metrics=[\"accuracy\"]\n",
    "    )\n",
    "    return model"
   ]
  },
  {
   "cell_type": "code",
   "execution_count": 220,
   "metadata": {},
   "outputs": [
    {
     "name": "stdout",
     "output_type": "stream",
     "text": [
      "Epoch 1/3\n",
      "3125/3125 [==============================] - 2s 469us/step - loss: 0.0062 - accuracy: 2.0000e-05\n",
      "Epoch 2/3\n",
      "3125/3125 [==============================] - 2s 497us/step - loss: 1.3883e-04 - accuracy: 2.0000e-05\n",
      "Epoch 3/3\n",
      "3125/3125 [==============================] - 1s 479us/step - loss: 1.2906e-04 - accuracy: 2.0000e-05\n"
     ]
    },
    {
     "data": {
      "text/plain": [
       "<keras.callbacks.History at 0x7f61c23fb250>"
      ]
     },
     "execution_count": 220,
     "metadata": {},
     "output_type": "execute_result"
    }
   ],
   "source": [
    "model = create_model()\n",
    "model.fit(X, Y, epochs=3)"
   ]
  },
  {
   "cell_type": "code",
   "execution_count": 221,
   "metadata": {},
   "outputs": [
    {
     "name": "stdout",
     "output_type": "stream",
     "text": [
      "3125/3125 [==============================] - 1s 289us/step\n"
     ]
    }
   ],
   "source": [
    "P = model.predict(X)"
   ]
  },
  {
   "cell_type": "code",
   "execution_count": 222,
   "metadata": {},
   "outputs": [
    {
     "data": {
      "text/plain": [
       "array([[0.6432546 ],\n",
       "       [0.5060322 ],\n",
       "       [0.52261925],\n",
       "       ...,\n",
       "       [0.4924669 ],\n",
       "       [0.6688723 ],\n",
       "       [0.6773242 ]], dtype=float32)"
      ]
     },
     "execution_count": 222,
     "metadata": {},
     "output_type": "execute_result"
    }
   ],
   "source": [
    "P"
   ]
  },
  {
   "cell_type": "code",
   "execution_count": 223,
   "metadata": {},
   "outputs": [
    {
     "data": {
      "text/plain": [
       "(array([3.7000e+01, 6.9000e+02, 5.2700e+03, 1.8733e+04, 3.0694e+04,\n",
       "        2.8192e+04, 1.2845e+04, 3.1080e+03, 4.0600e+02, 2.5000e+01]),\n",
       " array([0.02456194, 0.12409843, 0.22363491, 0.32317141, 0.42270789,\n",
       "        0.52224433, 0.62178087, 0.72131735, 0.82085383, 0.92039031,\n",
       "        1.01992679]),\n",
       " <BarContainer object of 10 artists>)"
      ]
     },
     "execution_count": 223,
     "metadata": {},
     "output_type": "execute_result"
    },
    {
     "data": {
      "image/png": "[encoded data removed]",
      "text/plain": [
       "<Figure size 640x480 with 1 Axes>"
      ]
     },
     "metadata": {},
     "output_type": "display_data"
    }
   ],
   "source": [
    "plt.hist(P)"
   ]
  },
  {
   "cell_type": "code",
   "execution_count": 224,
   "metadata": {},
   "outputs": [],
   "source": [
    "def prob(x, P):\n",
    "    if x > P.mean():\n",
    "        return (P > x).mean()\n",
    "    return (P <= x).mean()"
   ]
  },
  {
   "cell_type": "code",
   "execution_count": 226,
   "metadata": {},
   "outputs": [
    {
     "data": {
      "text/plain": [
       "0.4815"
      ]
     },
     "execution_count": 226,
     "metadata": {},
     "output_type": "execute_result"
    }
   ],
   "source": [
    "prob(0.5, P)"
   ]
  },
  {
   "cell_type": "code",
   "execution_count": 202,
   "metadata": {},
   "outputs": [
    {
     "name": "stdout",
     "output_type": "stream",
     "text": [
      "Epoch 1/2\n",
      "3125/3125 [==============================] - 2s 552us/step - loss: 0.1189 - accuracy: 0.9481\n",
      "Epoch 2/2\n",
      "3125/3125 [==============================] - 2s 544us/step - loss: 0.0674 - accuracy: 0.9713\n"
     ]
    },
    {
     "data": {
      "text/plain": [
       "<keras.callbacks.History at 0x7f62bb0cf090>"
      ]
     },
     "execution_count": 202,
     "metadata": {},
     "output_type": "execute_result"
    }
   ],
   "source": [
    "def create_model() -> tf.keras.Model:\n",
    "    inputs = tf.keras.Input((256,))\n",
    "    x = tf.keras.layers.Dense(100, activation=\"relu\")(inputs)\n",
    "    x = tf.keras.layers.Dense(50, activation=\"relu\")(x)\n",
    "    mean = tf.keras.layers.Dense(3)(x)\n",
    "    stddev = tf.keras.layers.Dense(3, activation=\"sigmoid\")(x)\n",
    "    x = tf.keras.layers.Lambda(lambda inputs: tf.random.normal(tf.shape(inputs[0]), mean=inputs[0], stddev=inputs[1]))([mean, stddev])\n",
    "    x = tf.keras.layers.Dense(1, activation=\"sigmoid\")(x)\n",
    "    model = tf.keras.Model(inputs=inputs, outputs=x)\n",
    "    model.compile(\n",
    "        optimizer=tf.keras.optimizers.Adam(learning_rate=0.01),\n",
    "        loss=\"binary_crossentropy\",\n",
    "        metrics=[\"accuracy\"]\n",
    "    )\n",
    "    return model\n",
    "\n",
    "model = create_model()\n",
    "model.fit(X, Y.round(), epochs=2)"
   ]
  },
  {
   "cell_type": "code",
   "execution_count": 203,
   "metadata": {},
   "outputs": [
    {
     "name": "stdout",
     "output_type": "stream",
     "text": [
      "1/1 [==============================] - 0s 29ms/step\n"
     ]
    },
    {
     "data": {
      "text/plain": [
       "array([[0.8866449 ],\n",
       "       [0.99998826],\n",
       "       [1.        ]], dtype=float32)"
      ]
     },
     "execution_count": 203,
     "metadata": {},
     "output_type": "execute_result"
    }
   ],
   "source": [
    "A = rng.normal(size=(3, 256))\n",
    "model.predict(A[0:3])"
   ]
  },
  {
   "cell_type": "code",
   "execution_count": 204,
   "metadata": {},
   "outputs": [],
   "source": [
    "def forward(funcs, x):\n",
    "    for f in funcs:\n",
    "        x = f(x)\n",
    "    return x"
   ]
  },
  {
   "cell_type": "code",
   "execution_count": 107,
   "metadata": {},
   "outputs": [
    {
     "data": {
      "text/plain": [
       "[<keras.engine.input_layer.InputLayer at 0x7f61e038f490>,\n",
       " <keras.layers.core.dense.Dense at 0x7f6108179890>,\n",
       " <keras.layers.core.dense.Dense at 0x7f60b07d3e10>,\n",
       " <keras.layers.core.dense.Dense at 0x7f61082e32d0>,\n",
       " <keras.layers.core.dense.Dense at 0x7f60b07c39d0>,\n",
       " <keras.layers.core.lambda_layer.Lambda at 0x7f6108395750>,\n",
       " <keras.layers.core.dense.Dense at 0x7f60b0767250>]"
      ]
     },
     "execution_count": 107,
     "metadata": {},
     "output_type": "execute_result"
    }
   ],
   "source": [
    "model.layers"
   ]
  },
  {
   "cell_type": "code",
   "execution_count": 205,
   "metadata": {},
   "outputs": [],
   "source": [
    "means = forward(model.layers[:3] + model.layers[3:4], A)\n",
    "stds = forward(model.layers[:3] + model.layers[4:5], A)"
   ]
  },
  {
   "cell_type": "code",
   "execution_count": 206,
   "metadata": {},
   "outputs": [
    {
     "data": {
      "text/plain": [
       "<tf.Tensor: shape=(3, 3), dtype=float32, numpy=\n",
       "array([[   2.747542 ,   -7.884355 ,   -1.9965118],\n",
       "       [  18.246403 ,  -75.7556   ,  -21.434456 ],\n",
       "       [  37.210224 , -203.8406   ,  -70.11396  ]], dtype=float32)>"
      ]
     },
     "execution_count": 206,
     "metadata": {},
     "output_type": "execute_result"
    }
   ],
   "source": [
    "means"
   ]
  },
  {
   "cell_type": "code",
   "execution_count": 207,
   "metadata": {},
   "outputs": [
    {
     "data": {
      "text/plain": [
       "<tf.Tensor: shape=(3, 3), dtype=float32, numpy=\n",
       "array([[6.4501375e-02, 2.2939528e-07, 3.2979432e-01],\n",
       "       [1.0000000e+00, 0.0000000e+00, 1.0000000e+00],\n",
       "       [1.0000000e+00, 0.0000000e+00, 1.0000000e+00]], dtype=float32)>"
      ]
     },
     "execution_count": 207,
     "metadata": {},
     "output_type": "execute_result"
    }
   ],
   "source": [
    "stds"
   ]
  },
  {
   "cell_type": "code",
   "execution_count": 212,
   "metadata": {},
   "outputs": [
    {
     "data": {
      "text/plain": [
       "array([[0.8872239 ],\n",
       "       [0.99999636],\n",
       "       [1.        ]], dtype=float32)"
      ]
     },
     "execution_count": 212,
     "metadata": {},
     "output_type": "execute_result"
    }
   ],
   "source": [
    "np.array([model.layers[-1](tf.random.normal(tf.shape(means), mean=means, stddev=stds)).numpy() for _ in range(1000)]).mean(axis=0)"
   ]
  }
 ],
 "metadata": {
  "kernelspec": {
   "display_name": ".venv",
   "language": "python",
   "name": "python3"
  },
  "language_info": {
   "codemirror_mode": {
    "name": "ipython",
    "version": 3
   },
   "file_extension": ".py",
   "mimetype": "text/x-python",
   "name": "python",
   "nbconvert_exporter": "python",
   "pygments_lexer": "ipython3",
   "version": "3.11.3"
  },
  "orig_nbformat": 4
 },
 "nbformat": 4,
 "nbformat_minor": 2
}
